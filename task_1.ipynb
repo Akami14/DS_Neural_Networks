{
  "cells": [
    {
      "cell_type": "markdown",
      "metadata": {
        "id": "WZ1zS4kdPzj7"
      },
      "source": [
        "## Двухслойная нейронная сеть на numpy"
      ]
    },
    {
      "cell_type": "code",
      "execution_count": 1,
      "metadata": {
        "id": "cuOixqmrPzj7",
        "outputId": "1bfd82f7-22b8-44ab-8723-1bc026e631ea",
        "colab": {
          "base_uri": "https://localhost:8080/",
          "height": 248
        }
      },
      "outputs": [
        {
          "output_type": "stream",
          "name": "stdout",
          "text": [
            "   sepal_length  sepal_width  petal_length  petal_width species\n",
            "0           5.1          3.5           1.4          0.2  setosa\n",
            "1           4.9          3.0           1.4          0.2  setosa\n",
            "2           4.7          3.2           1.3          0.2  setosa\n",
            "3           4.6          3.1           1.5          0.2  setosa\n",
            "4           5.0          3.6           1.4          0.2  setosa\n"
          ]
        },
        {
          "output_type": "execute_result",
          "data": {
            "text/plain": [
              "   sepal_length  sepal_width  petal_length  petal_width  species\n",
              "0           5.1          3.5           1.4          0.2        0\n",
              "1           4.9          3.0           1.4          0.2        0\n",
              "2           4.7          3.2           1.3          0.2        0"
            ],
            "text/html": [
              "\n",
              "  <div id=\"df-3f3b5387-0f23-4d98-b8ee-8187708d75d3\" class=\"colab-df-container\">\n",
              "    <div>\n",
              "<style scoped>\n",
              "    .dataframe tbody tr th:only-of-type {\n",
              "        vertical-align: middle;\n",
              "    }\n",
              "\n",
              "    .dataframe tbody tr th {\n",
              "        vertical-align: top;\n",
              "    }\n",
              "\n",
              "    .dataframe thead th {\n",
              "        text-align: right;\n",
              "    }\n",
              "</style>\n",
              "<table border=\"1\" class=\"dataframe\">\n",
              "  <thead>\n",
              "    <tr style=\"text-align: right;\">\n",
              "      <th></th>\n",
              "      <th>sepal_length</th>\n",
              "      <th>sepal_width</th>\n",
              "      <th>petal_length</th>\n",
              "      <th>petal_width</th>\n",
              "      <th>species</th>\n",
              "    </tr>\n",
              "  </thead>\n",
              "  <tbody>\n",
              "    <tr>\n",
              "      <th>0</th>\n",
              "      <td>5.1</td>\n",
              "      <td>3.5</td>\n",
              "      <td>1.4</td>\n",
              "      <td>0.2</td>\n",
              "      <td>0</td>\n",
              "    </tr>\n",
              "    <tr>\n",
              "      <th>1</th>\n",
              "      <td>4.9</td>\n",
              "      <td>3.0</td>\n",
              "      <td>1.4</td>\n",
              "      <td>0.2</td>\n",
              "      <td>0</td>\n",
              "    </tr>\n",
              "    <tr>\n",
              "      <th>2</th>\n",
              "      <td>4.7</td>\n",
              "      <td>3.2</td>\n",
              "      <td>1.3</td>\n",
              "      <td>0.2</td>\n",
              "      <td>0</td>\n",
              "    </tr>\n",
              "  </tbody>\n",
              "</table>\n",
              "</div>\n",
              "    <div class=\"colab-df-buttons\">\n",
              "\n",
              "  <div class=\"colab-df-container\">\n",
              "    <button class=\"colab-df-convert\" onclick=\"convertToInteractive('df-3f3b5387-0f23-4d98-b8ee-8187708d75d3')\"\n",
              "            title=\"Convert this dataframe to an interactive table.\"\n",
              "            style=\"display:none;\">\n",
              "\n",
              "  <svg xmlns=\"http://www.w3.org/2000/svg\" height=\"24px\" viewBox=\"0 -960 960 960\">\n",
              "    <path d=\"M120-120v-720h720v720H120Zm60-500h600v-160H180v160Zm220 220h160v-160H400v160Zm0 220h160v-160H400v160ZM180-400h160v-160H180v160Zm440 0h160v-160H620v160ZM180-180h160v-160H180v160Zm440 0h160v-160H620v160Z\"/>\n",
              "  </svg>\n",
              "    </button>\n",
              "\n",
              "  <style>\n",
              "    .colab-df-container {\n",
              "      display:flex;\n",
              "      gap: 12px;\n",
              "    }\n",
              "\n",
              "    .colab-df-convert {\n",
              "      background-color: #E8F0FE;\n",
              "      border: none;\n",
              "      border-radius: 50%;\n",
              "      cursor: pointer;\n",
              "      display: none;\n",
              "      fill: #1967D2;\n",
              "      height: 32px;\n",
              "      padding: 0 0 0 0;\n",
              "      width: 32px;\n",
              "    }\n",
              "\n",
              "    .colab-df-convert:hover {\n",
              "      background-color: #E2EBFA;\n",
              "      box-shadow: 0px 1px 2px rgba(60, 64, 67, 0.3), 0px 1px 3px 1px rgba(60, 64, 67, 0.15);\n",
              "      fill: #174EA6;\n",
              "    }\n",
              "\n",
              "    .colab-df-buttons div {\n",
              "      margin-bottom: 4px;\n",
              "    }\n",
              "\n",
              "    [theme=dark] .colab-df-convert {\n",
              "      background-color: #3B4455;\n",
              "      fill: #D2E3FC;\n",
              "    }\n",
              "\n",
              "    [theme=dark] .colab-df-convert:hover {\n",
              "      background-color: #434B5C;\n",
              "      box-shadow: 0px 1px 3px 1px rgba(0, 0, 0, 0.15);\n",
              "      filter: drop-shadow(0px 1px 2px rgba(0, 0, 0, 0.3));\n",
              "      fill: #FFFFFF;\n",
              "    }\n",
              "  </style>\n",
              "\n",
              "    <script>\n",
              "      const buttonEl =\n",
              "        document.querySelector('#df-3f3b5387-0f23-4d98-b8ee-8187708d75d3 button.colab-df-convert');\n",
              "      buttonEl.style.display =\n",
              "        google.colab.kernel.accessAllowed ? 'block' : 'none';\n",
              "\n",
              "      async function convertToInteractive(key) {\n",
              "        const element = document.querySelector('#df-3f3b5387-0f23-4d98-b8ee-8187708d75d3');\n",
              "        const dataTable =\n",
              "          await google.colab.kernel.invokeFunction('convertToInteractive',\n",
              "                                                    [key], {});\n",
              "        if (!dataTable) return;\n",
              "\n",
              "        const docLinkHtml = 'Like what you see? Visit the ' +\n",
              "          '<a target=\"_blank\" href=https://colab.research.google.com/notebooks/data_table.ipynb>data table notebook</a>'\n",
              "          + ' to learn more about interactive tables.';\n",
              "        element.innerHTML = '';\n",
              "        dataTable['output_type'] = 'display_data';\n",
              "        await google.colab.output.renderOutput(dataTable, element);\n",
              "        const docLink = document.createElement('div');\n",
              "        docLink.innerHTML = docLinkHtml;\n",
              "        element.appendChild(docLink);\n",
              "      }\n",
              "    </script>\n",
              "  </div>\n",
              "\n",
              "\n",
              "<div id=\"df-ce2d9c37-2688-4134-8dce-f5e6b1f95647\">\n",
              "  <button class=\"colab-df-quickchart\" onclick=\"quickchart('df-ce2d9c37-2688-4134-8dce-f5e6b1f95647')\"\n",
              "            title=\"Suggest charts.\"\n",
              "            style=\"display:none;\">\n",
              "\n",
              "<svg xmlns=\"http://www.w3.org/2000/svg\" height=\"24px\"viewBox=\"0 0 24 24\"\n",
              "     width=\"24px\">\n",
              "    <g>\n",
              "        <path d=\"M19 3H5c-1.1 0-2 .9-2 2v14c0 1.1.9 2 2 2h14c1.1 0 2-.9 2-2V5c0-1.1-.9-2-2-2zM9 17H7v-7h2v7zm4 0h-2V7h2v10zm4 0h-2v-4h2v4z\"/>\n",
              "    </g>\n",
              "</svg>\n",
              "  </button>\n",
              "\n",
              "<style>\n",
              "  .colab-df-quickchart {\n",
              "      --bg-color: #E8F0FE;\n",
              "      --fill-color: #1967D2;\n",
              "      --hover-bg-color: #E2EBFA;\n",
              "      --hover-fill-color: #174EA6;\n",
              "      --disabled-fill-color: #AAA;\n",
              "      --disabled-bg-color: #DDD;\n",
              "  }\n",
              "\n",
              "  [theme=dark] .colab-df-quickchart {\n",
              "      --bg-color: #3B4455;\n",
              "      --fill-color: #D2E3FC;\n",
              "      --hover-bg-color: #434B5C;\n",
              "      --hover-fill-color: #FFFFFF;\n",
              "      --disabled-bg-color: #3B4455;\n",
              "      --disabled-fill-color: #666;\n",
              "  }\n",
              "\n",
              "  .colab-df-quickchart {\n",
              "    background-color: var(--bg-color);\n",
              "    border: none;\n",
              "    border-radius: 50%;\n",
              "    cursor: pointer;\n",
              "    display: none;\n",
              "    fill: var(--fill-color);\n",
              "    height: 32px;\n",
              "    padding: 0;\n",
              "    width: 32px;\n",
              "  }\n",
              "\n",
              "  .colab-df-quickchart:hover {\n",
              "    background-color: var(--hover-bg-color);\n",
              "    box-shadow: 0 1px 2px rgba(60, 64, 67, 0.3), 0 1px 3px 1px rgba(60, 64, 67, 0.15);\n",
              "    fill: var(--button-hover-fill-color);\n",
              "  }\n",
              "\n",
              "  .colab-df-quickchart-complete:disabled,\n",
              "  .colab-df-quickchart-complete:disabled:hover {\n",
              "    background-color: var(--disabled-bg-color);\n",
              "    fill: var(--disabled-fill-color);\n",
              "    box-shadow: none;\n",
              "  }\n",
              "\n",
              "  .colab-df-spinner {\n",
              "    border: 2px solid var(--fill-color);\n",
              "    border-color: transparent;\n",
              "    border-bottom-color: var(--fill-color);\n",
              "    animation:\n",
              "      spin 1s steps(1) infinite;\n",
              "  }\n",
              "\n",
              "  @keyframes spin {\n",
              "    0% {\n",
              "      border-color: transparent;\n",
              "      border-bottom-color: var(--fill-color);\n",
              "      border-left-color: var(--fill-color);\n",
              "    }\n",
              "    20% {\n",
              "      border-color: transparent;\n",
              "      border-left-color: var(--fill-color);\n",
              "      border-top-color: var(--fill-color);\n",
              "    }\n",
              "    30% {\n",
              "      border-color: transparent;\n",
              "      border-left-color: var(--fill-color);\n",
              "      border-top-color: var(--fill-color);\n",
              "      border-right-color: var(--fill-color);\n",
              "    }\n",
              "    40% {\n",
              "      border-color: transparent;\n",
              "      border-right-color: var(--fill-color);\n",
              "      border-top-color: var(--fill-color);\n",
              "    }\n",
              "    60% {\n",
              "      border-color: transparent;\n",
              "      border-right-color: var(--fill-color);\n",
              "    }\n",
              "    80% {\n",
              "      border-color: transparent;\n",
              "      border-right-color: var(--fill-color);\n",
              "      border-bottom-color: var(--fill-color);\n",
              "    }\n",
              "    90% {\n",
              "      border-color: transparent;\n",
              "      border-bottom-color: var(--fill-color);\n",
              "    }\n",
              "  }\n",
              "</style>\n",
              "\n",
              "  <script>\n",
              "    async function quickchart(key) {\n",
              "      const quickchartButtonEl =\n",
              "        document.querySelector('#' + key + ' button');\n",
              "      quickchartButtonEl.disabled = true;  // To prevent multiple clicks.\n",
              "      quickchartButtonEl.classList.add('colab-df-spinner');\n",
              "      try {\n",
              "        const charts = await google.colab.kernel.invokeFunction(\n",
              "            'suggestCharts', [key], {});\n",
              "      } catch (error) {\n",
              "        console.error('Error during call to suggestCharts:', error);\n",
              "      }\n",
              "      quickchartButtonEl.classList.remove('colab-df-spinner');\n",
              "      quickchartButtonEl.classList.add('colab-df-quickchart-complete');\n",
              "    }\n",
              "    (() => {\n",
              "      let quickchartButtonEl =\n",
              "        document.querySelector('#df-ce2d9c37-2688-4134-8dce-f5e6b1f95647 button');\n",
              "      quickchartButtonEl.style.display =\n",
              "        google.colab.kernel.accessAllowed ? 'block' : 'none';\n",
              "    })();\n",
              "  </script>\n",
              "</div>\n",
              "    </div>\n",
              "  </div>\n"
            ]
          },
          "metadata": {},
          "execution_count": 1
        }
      ],
      "source": [
        "'''\n",
        "Построение двухслойной нейронный сети для классификации цветков ириса\n",
        "'''\n",
        "\n",
        "import numpy as np\n",
        "import pandas as pd\n",
        "import seaborn as sns\n",
        "import matplotlib.pyplot as plt\n",
        "\n",
        "import warnings\n",
        "warnings.simplefilter(action='ignore', category=FutureWarning)\n",
        "\n",
        "# sklearn здесь только, чтобы разделить выборку на тренировочную и тестовую\n",
        "from sklearn.model_selection import train_test_split\n",
        "\n",
        "\n",
        "### Шаг 1. Определение функций, которые понадобяться для обучения\n",
        "# преобразование массива в бинарный вид результатов\n",
        "def to_one_hot(Y):\n",
        "    n_col = np.amax(Y) + 1\n",
        "    binarized = np.zeros((len(Y), n_col))\n",
        "    for i in range(len(Y)):\n",
        "        binarized[i, Y[i]] = 1.\n",
        "    return binarized\n",
        "\n",
        "# преобразование массива в необходимый вид\n",
        "def from_one_hot(Y):\n",
        "    arr = np.zeros((len(Y), 1))\n",
        "\n",
        "    for i in range(len(Y)):\n",
        "        l = layer2[i]\n",
        "        for j in range(len(l)):\n",
        "            if(l[j] == 1):\n",
        "                arr[i] = j+1\n",
        "    return arr\n",
        "\n",
        "# сигмоида и ее производная\n",
        "def sigmoid(x):\n",
        "    return 1/(1+np.exp(-x))\n",
        "\n",
        "def sigmoid_deriv(x):\n",
        "    return sigmoid(x)*(1 - sigmoid(x))\n",
        "\n",
        "# нормализация массива\n",
        "def normalize(X, axis=-1, order=2):\n",
        "    l2 = np.atleast_1d(np.linalg.norm(X, order, axis))\n",
        "    l2[l2 == 0] = 1\n",
        "    return X / np.expand_dims(l2, axis)\n",
        "\n",
        "\n",
        "### Шаг 2. Подготовка тренировочных данных\n",
        "# получения данных из csv файла. укажите здесь путь к файлу Iris.csv\n",
        "#iris_data = pd.read_csv(\"./Iris.csv\")\n",
        "iris = sns.load_dataset('iris')\n",
        "iris_data = pd.DataFrame(iris)\n",
        "\n",
        "print(iris_data.head()) # расскоментируйте, чтобы посмотреть структуру данных\n",
        "\n",
        "# репрезентация данных в виде графиков\n",
        "# g = sns.pairplot(iris_data.drop(\"Id\", axis=1), hue=\"Species\")\n",
        "# plt.show() # расскоментируйте, чтобы посмотреть\n",
        "\n",
        "# замена текстовых значений на цифровые\n",
        "iris_data['species'].replace(['setosa', 'virginica', 'versicolor'], [0, 1, 2], inplace=True)\n",
        "\n",
        "# формирование входных данных\n",
        "columns = ['sepal_length', 'sepal_width', 'petal_length', 'petal_width']\n",
        "x = pd.DataFrame(iris_data, columns=columns)\n",
        "x = normalize(x.values)\n",
        "\n",
        "# формирование выходных данных(результатов)\n",
        "columns = ['species']\n",
        "y = pd.DataFrame(iris_data, columns=columns)\n",
        "y = y.values\n",
        "y = y.flatten()\n",
        "y = to_one_hot(y)\n",
        "\n",
        "\n",
        "iris_data.head(3)\n"
      ]
    },
    {
      "cell_type": "code",
      "source": [
        "def ReLU(x):\n",
        "  return x*(x  >  0)\n",
        "def deriv_RELU(x):\n",
        "  x[x<=0] = 0\n",
        "  x[x>0] = 1\n",
        "  return x"
      ],
      "metadata": {
        "id": "MeHnIvu9C7TB"
      },
      "execution_count": 2,
      "outputs": []
    },
    {
      "cell_type": "code",
      "source": [
        "# Разделение данных на тренировочные и тестовые\n",
        "X_train, X_test, y_train, y_test = train_test_split(x, y, test_size=0.33)\n"
      ],
      "metadata": {
        "id": "xzGT5S0MC7jI"
      },
      "execution_count": 3,
      "outputs": []
    },
    {
      "cell_type": "markdown",
      "source": [
        "## 2 Слоя уменьшение скорости обучения при увеличение точности"
      ],
      "metadata": {
        "id": "miObodlA3HRP"
      }
    },
    {
      "cell_type": "code",
      "source": [
        "w0 = 2*np.random.random((4, 5)) - 1 # для входного слоя   - 4 входа, 3 выхода\n",
        "w1 = 2*np.random.random((5, 3)) - 1 # для внутреннего слоя - 5 входов, 3 выхода"
      ],
      "metadata": {
        "id": "_0KupMi23ZFL"
      },
      "execution_count": 4,
      "outputs": []
    },
    {
      "cell_type": "code",
      "source": [
        "# скорость обучения (learning rate)\n",
        "n = 0.1\n",
        "\n",
        "# массив для ошибок, чтобы потом построить график\n",
        "errors = []\n",
        "\n",
        "# процесс обучения\n",
        "for i in range(100000): #100,000\n",
        "\n",
        "    # прямое распространение(feed forward)\n",
        "    layer0 = X_train\n",
        "    layer1 = sigmoid(np.dot(layer0, w0))\n",
        "    layer2 = sigmoid(np.dot(layer1, w1))\n",
        "\n",
        "    # обратное распространение(back propagation) с использованием градиентного спуска\n",
        "\n",
        "    layer2_error = y_train - layer2\n",
        "    layer2_delta = layer2_error * sigmoid_deriv(layer2)\n",
        "\n",
        "    layer1_error = layer2_delta.dot(w1.T)\n",
        "    layer1_delta = layer1_error * sigmoid_deriv(layer1)\n",
        "\n",
        "    w1 += layer1.T.dot(layer2_delta) * n\n",
        "    w0 += layer0.T.dot(layer1_delta) * n\n",
        "\n",
        "    error = np.mean(np.abs(layer2_error))\n",
        "    errors.append(error)\n",
        "    accuracy = (1 - error) * 100\n",
        "    if accuracy >= 60.00:\n",
        "      n=0.01\n",
        "    if accuracy >= 70.00:\n",
        "      n=0.001\n",
        "\n",
        "\n",
        "### Шаг 4. Демонстрация полученных результатов\n",
        "# черчение диаграммы точности в зависимости от обучения\n",
        "plt.plot(errors)\n",
        "plt.xlabel('Обучение')\n",
        "plt.ylabel('Ошибка')\n",
        "plt.show() # расскоментируйте, чтобы посмотреть\n",
        "\n",
        "print(\"Точность нейронной сети \" + str(round(accuracy,2)) + \"%\")"
      ],
      "metadata": {
        "colab": {
          "base_uri": "https://localhost:8080/",
          "height": 466
        },
        "id": "Sy5UxUem3CY2",
        "outputId": "886745fb-9567-43e3-babb-df4291ca58fe"
      },
      "execution_count": 5,
      "outputs": [
        {
          "output_type": "display_data",
          "data": {
            "text/plain": [
              "<Figure size 640x480 with 1 Axes>"
            ],
            "image/png": "[encoded data removed]"
          },
          "metadata": {}
        },
        {
          "output_type": "stream",
          "name": "stdout",
          "text": [
            "Точность нейронной сети 91.28%\n"
          ]
        }
      ]
    },
    {
      "cell_type": "markdown",
      "source": [
        "## 3 слоя уменьшение скорости обучения в зависимости от от точности"
      ],
      "metadata": {
        "id": "Jdqe677H79W8"
      }
    },
    {
      "cell_type": "code",
      "source": [
        "w0 = 2*np.random.random((4, 5)) - 1 # для входного слоя   - 4 входа, 3 выхода\n",
        "w1 = 2*np.random.random((5, 5)) - 1 # для внутреннего слоя - 5 входов, 3 выхода\n",
        "w2 = 2*np.random.random((5, 3))"
      ],
      "metadata": {
        "id": "NcXvCIyn3DU2"
      },
      "execution_count": 11,
      "outputs": []
    },
    {
      "cell_type": "code",
      "source": [
        "# скорость обучения (learning rate)\n",
        "n = 0.1\n",
        "\n",
        "# массив для ошибок, чтобы потом построить график\n",
        "errors = []\n",
        "\n",
        "# процесс обучения\n",
        "for i in range(100000): #100,000\n",
        "\n",
        "    # прямое распространение(feed forward)\n",
        "    layer0 = X_train\n",
        "    layer1 = sigmoid(np.dot(layer0, w0))\n",
        "    layer2 = sigmoid(np.dot(layer1, w1))\n",
        "\n",
        "    layer3 = sigmoid(np.dot(layer2, w2))\n",
        "    #layer4 = sigmoid(np.dot(layer3, w3))\n",
        "\n",
        "    # обратное распространение(back propagation) с использованием градиентного спуска\n",
        "    #layer4_error = y_train - layer4\n",
        "    #layer4_delta = layer4_error * sigmoid_deriv(layer4)\n",
        "\n",
        "    layer3_error = y_train - layer3\n",
        "    layer3_delta = layer3_error * sigmoid_deriv(layer3)\n",
        "\n",
        "    layer2_error = layer3_delta.dot(w2.T)\n",
        "    layer2_delta = layer2_error * sigmoid_deriv(layer2)\n",
        "\n",
        "    layer1_error = layer2_delta.dot(w1.T)\n",
        "    layer1_delta = layer1_error * sigmoid_deriv(layer1)\n",
        "\n",
        "    w2 += layer2.T.dot(layer3_delta) * n\n",
        "    w1 += layer1.T.dot(layer2_delta) * n\n",
        "    w0 += layer0.T.dot(layer1_delta) * n\n",
        "\n",
        "    error = np.mean(np.abs(layer3_error))\n",
        "    errors.append(error)\n",
        "    accuracy = (1 - error) * 100\n",
        "    if accuracy >= 50.00:\n",
        "      n=0.001\n",
        "    if accuracy >= 70.00:\n",
        "      n=0.00001\n",
        "\n",
        "### Шаг 4. Демонстрация полученных результатов\n",
        "# черчение диаграммы точности в зависимости от обучения\n",
        "plt.plot(errors)\n",
        "plt.xlabel('Обучение')\n",
        "plt.ylabel('Ошибка')\n",
        "plt.show() # расскоментируйте, чтобы посмотреть\n",
        "\n",
        "print(\"Точность нейронной сети \" + str(round(accuracy,2)) + \"%\")"
      ],
      "metadata": {
        "colab": {
          "base_uri": "https://localhost:8080/",
          "height": 466
        },
        "id": "QRxX4eIXCOKo",
        "outputId": "bf81fb51-79d8-48e7-9a13-b1e66aa9cb63"
      },
      "execution_count": 17,
      "outputs": [
        {
          "output_type": "display_data",
          "data": {
            "text/plain": [
              "<Figure size 640x480 with 1 Axes>"
            ],
            "image/png": "[encoded data removed]"
          },
          "metadata": {}
        },
        {
          "output_type": "stream",
          "name": "stdout",
          "text": [
            "Точность нейронной сети 76.43%\n"
          ]
        }
      ]
    },
    {
      "cell_type": "markdown",
      "source": [
        "**Текст, выделенный полужирным шрифтом**## ReLU активация"
      ],
      "metadata": {
        "id": "rCYhQIqCzJHD"
      }
    },
    {
      "cell_type": "code",
      "source": [
        "w0 = 2*np.random.random((4, 5)) - 1 # для входного слоя   - 4 входа, 3 выхода\n",
        "w1 = 2*np.random.random((5, 3)) - 1 # для внутреннего слоя - 5 входов, 3 выхода"
      ],
      "metadata": {
        "id": "e53umxcnafsY"
      },
      "execution_count": 18,
      "outputs": []
    },
    {
      "cell_type": "code",
      "source": [
        "# скорость обучения (learning rate)\n",
        "n = 0.0001\n",
        "\n",
        "# массив для ошибок, чтобы потом построить график\n",
        "errors = []\n",
        "\n",
        "# процесс обучения\n",
        "for i in range(50): #100,000\n",
        "    # прямое распространение(feed forward)\n",
        "    layer0 = X_train\n",
        "    layer1 = ReLU(np.dot(layer0, w0))\n",
        "    layer2 = ReLU(np.dot(layer1, w1))\n",
        "\n",
        "    #layer3 = ReLU(np.dot(layer2, w2))\n",
        "\n",
        "    #layer3_error = y_train - layer3\n",
        "    #layer3_delta = layer3_error * deriv_RELU(layer3)\n",
        "\n",
        "\n",
        "    layer2_error = y_train - layer2\n",
        "    layer2_delta = layer2_error * deriv_RELU(layer2)\n",
        "\n",
        "    layer1_error = layer2_delta.dot(w1.T)\n",
        "    layer1_delta = layer1_error * deriv_RELU(layer1)\n",
        "\n",
        "\n",
        "    #w2 += layer2.T.dot(layer3_delta) * n\n",
        "    w1 += layer1.T.dot(layer2_delta) * n\n",
        "    w0 += layer0.T.dot(layer1_delta) * n\n",
        "\n",
        "    error = np.mean(np.abs(layer2_error))\n",
        "    errors.append(error)\n",
        "    accuracy = (1 - error) * 100\n",
        "    if i%100==0:\n",
        "      print(f'эпоха {i}, ошибка - {error}')\n",
        "\n",
        "\n",
        "### Шаг 4. Демонстрация полученных результатов\n",
        "# черчение диаграммы точности в зависимости от обучения\n",
        "plt.plot(errors)\n",
        "plt.xlabel('Обучение')\n",
        "plt.ylabel('Ошибка')\n",
        "plt.show() # расскоментируйте, чтобы посмотреть\n",
        "\n",
        "print(\"Точность нейронной сети \" + str(round(accuracy,2)) + \"%\")"
      ],
      "metadata": {
        "colab": {
          "base_uri": "https://localhost:8080/",
          "height": 500
        },
        "id": "yZ4IinQUx-B6",
        "outputId": "1cb3ec0e-5087-4eb2-a14f-54e892d0ce2e"
      },
      "execution_count": 45,
      "outputs": [
        {
          "output_type": "stream",
          "name": "stdout",
          "text": [
            "эпоха 0, ошибка - 0.059156266547278825\n"
          ]
        },
        {
          "output_type": "display_data",
          "data": {
            "text/plain": [
              "<Figure size 640x480 with 1 Axes>"
            ],
            "image/png": "[encoded data removed]"
          },
          "metadata": {}
        },
        {
          "output_type": "stream",
          "name": "stdout",
          "text": [
            "Точность нейронной сети 94.08%\n"
          ]
        }
      ]
    },
    {
      "cell_type": "code",
      "source": [],
      "metadata": {
        "id": "_KBmG6RZx-F0"
      },
      "execution_count": null,
      "outputs": []
    },
    {
      "cell_type": "markdown",
      "source": [
        "## Градиентный спуск с моментом нестерова"
      ],
      "metadata": {
        "id": "H7PumHIL12L5"
      }
    },
    {
      "cell_type": "code",
      "source": [
        "\n",
        "# скорость обучения (learning rate)\n",
        "n = 0.001\n",
        "betta = 0.050\n",
        "# массив для ошибок, чтобы потом построить график\n",
        "errors = []\n",
        "\n",
        "# процесс обучения\n",
        "for i in range(10000): #100,000\n",
        "\n",
        "    # прямое распространение(feed forward)\n",
        "    layer0 = X_train\n",
        "    layer1 = sigmoid(np.dot(layer0, w0))\n",
        "    layer2 = sigmoid(np.dot(layer1, w1))\n",
        "\n",
        "    # обратное распространение(back propagation) с использованием градиентного спуска\n",
        "\n",
        "    layer2_error = y_train - layer2\n",
        "    layer2_delta = layer2_error * sigmoid_deriv(layer2)\n",
        "\n",
        "    layer1_error = layer2_delta.dot(w1.T)\n",
        "    layer1_delta = layer1_error * sigmoid_deriv(layer1)\n",
        "\n",
        "    w1 += w1*betta+(layer1.T.dot(layer2_delta) - betta*w1)* n\n",
        "    w0 += w0*betta+(layer0.T.dot(layer1_delta) - betta*w0)* n\n",
        "\n",
        "    error = np.mean(np.abs(layer2_error))\n",
        "    errors.append(error)\n",
        "    accuracy = (1 - error) * 100\n",
        "\n",
        "\n",
        "\n",
        "### Шаг 4. Демонстрация полученных результатов\n",
        "# черчение диаграммы точности в зависимости от обучения\n",
        "plt.plot(errors)\n",
        "plt.xlabel('Обучение')\n",
        "plt.ylabel('Ошибка')\n",
        "plt.show() # расскоментируйте, чтобы посмотреть\n",
        "\n",
        "print(\"Точность нейронной сети \" + str(round(accuracy,2)) + \"%\")"
      ],
      "metadata": {
        "colab": {
          "base_uri": "https://localhost:8080/",
          "height": 501
        },
        "id": "Ut6Ht31Yx-If",
        "outputId": "555311fb-9358-438e-eafd-860579305b4f"
      },
      "execution_count": 48,
      "outputs": [
        {
          "output_type": "stream",
          "name": "stderr",
          "text": [
            "<ipython-input-1-61344f7d0573>:39: RuntimeWarning: overflow encountered in exp\n",
            "  return 1/(1+np.exp(-x))\n"
          ]
        },
        {
          "output_type": "display_data",
          "data": {
            "text/plain": [
              "<Figure size 640x480 with 1 Axes>"
            ],
            "image/png": "[encoded data removed]"
          },
          "metadata": {}
        },
        {
          "output_type": "stream",
          "name": "stdout",
          "text": [
            "Точность нейронной сети 71.67%\n"
          ]
        }
      ]
    },
    {
      "cell_type": "markdown",
      "source": [
        "Нейросети с 2 мя слоями достаточно для решения задачи ReLU активация показала наибольшую точность при меньшим количестве итерации (данная активаци уже начинается с оптимальной ошибки)"
      ],
      "metadata": {
        "id": "hF__k1N0do15"
      }
    }
  ],
  "metadata": {
    "kernelspec": {
      "display_name": "Python 3",
      "language": "python",
      "name": "python3"
    },
    "language_info": {
      "codemirror_mode": {
        "name": "ipython",
        "version": 3
      },
      "file_extension": ".py",
      "mimetype": "text/x-python",
      "name": "python",
      "nbconvert_exporter": "python",
      "pygments_lexer": "ipython3",
      "version": "3.7.7"
    },
    "colab": {
      "provenance": []
    }
  },
  "nbformat": 4,
  "nbformat_minor": 0
}